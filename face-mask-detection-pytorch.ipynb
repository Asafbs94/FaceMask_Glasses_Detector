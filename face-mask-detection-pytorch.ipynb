{
 "cells": [
  {
   "cell_type": "markdown",
   "metadata": {
    "papermill": {
     "duration": 0.019067,
     "end_time": "2020-10-18T07:04:55.193075",
     "exception": false,
     "start_time": "2020-10-18T07:04:55.174008",
     "status": "completed"
    },
    "tags": []
   },
   "source": [
    "## Face Mask Detection\n",
    "\n",
    "With face masks becoming the new normal now. The abundance of detecting face masks have also seen a big surge in popularity as well and this is something I tried as I started learning PyTorch.\n",
    "\n",
    "**NOTE:** I'm still a big noob in PyTorch so I am open to any kind of feedback :)"
   ]
  },
  {
   "cell_type": "code",
   "execution_count": 1,
   "metadata": {
    "execution": {
     "iopub.execute_input": "2020-10-18T07:04:55.237847Z",
     "iopub.status.busy": "2020-10-18T07:04:55.237137Z",
     "iopub.status.idle": "2020-10-18T07:04:58.148098Z",
     "shell.execute_reply": "2020-10-18T07:04:58.148633Z"
    },
    "id": "cg1a93nb-IYV",
    "outputId": "187c38a5-b64d-412c-d546-bd39ea5d0d4d",
    "papermill": {
     "duration": 2.937719,
     "end_time": "2020-10-18T07:04:58.148885",
     "exception": false,
     "start_time": "2020-10-18T07:04:55.211166",
     "status": "completed"
    },
    "tags": []
   },
   "outputs": [
    {
     "data": {
      "text/plain": [
       "device(type='cuda')"
      ]
     },
     "execution_count": 1,
     "metadata": {},
     "output_type": "execute_result"
    }
   ],
   "source": [
    "import numpy as np\n",
    "import pandas as pd\n",
    "import matplotlib.pyplot as plt\n",
    "import torch\n",
    "import torch.nn as nn\n",
    "import torch.nn.functional as F\n",
    "import torch.optim as optim\n",
    "from torch.utils.data import DataLoader, random_split, SubsetRandomSampler, Subset, WeightedRandomSampler\n",
    "import torchvision\n",
    "from torch.autograd import Variable\n",
    "from torchvision.datasets import ImageFolder, DatasetFolder\n",
    "import torchvision.transforms as transforms\n",
    "from sklearn.metrics import confusion_matrix, classification_report\n",
    "import os\n",
    "import seaborn as sns\n",
    "\n",
    "import PIL\n",
    "from PIL import Image\n",
    "import warnings\n",
    "device = torch.device('cuda' if torch.cuda.is_available() else 'cpu')\n",
    "device"
   ]
  },
  {
   "cell_type": "code",
   "execution_count": 2,
   "metadata": {
    "execution": {
     "iopub.execute_input": "2020-10-18T07:04:58.196866Z",
     "iopub.status.busy": "2020-10-18T07:04:58.194970Z",
     "iopub.status.idle": "2020-10-18T07:04:58.197555Z",
     "shell.execute_reply": "2020-10-18T07:04:58.198061Z"
    },
    "id": "t8a-QZf_-tmW",
    "papermill": {
     "duration": 0.027191,
     "end_time": "2020-10-18T07:04:58.198181",
     "exception": false,
     "start_time": "2020-10-18T07:04:58.170990",
     "status": "completed"
    },
    "tags": []
   },
   "outputs": [],
   "source": [
    "image_transforms = transforms.Compose(\n",
    "                   [transforms.Resize((32,32)),\n",
    "                    transforms.ToTensor(),\n",
    "                    transforms.Normalize((0.5, 0.5, 0.5), (0.5, 0.5, 0.5))])"
   ]
  },
  {
   "cell_type": "code",
   "execution_count": 3,
   "metadata": {
    "execution": {
     "iopub.execute_input": "2020-10-18T07:04:58.239046Z",
     "iopub.status.busy": "2020-10-18T07:04:58.238443Z",
     "iopub.status.idle": "2020-10-18T07:04:58.242286Z",
     "shell.execute_reply": "2020-10-18T07:04:58.242820Z"
    },
    "id": "-BMgIyI-ILTU",
    "papermill": {
     "duration": 0.026107,
     "end_time": "2020-10-18T07:04:58.242955",
     "exception": false,
     "start_time": "2020-10-18T07:04:58.216848",
     "status": "completed"
    },
    "tags": []
   },
   "outputs": [],
   "source": [
    "MAIN = 'data'"
   ]
  },
  {
   "cell_type": "code",
   "execution_count": 4,
   "metadata": {
    "execution": {
     "iopub.execute_input": "2020-10-18T07:04:58.284855Z",
     "iopub.status.busy": "2020-10-18T07:04:58.284101Z",
     "iopub.status.idle": "2020-10-18T07:04:59.600824Z",
     "shell.execute_reply": "2020-10-18T07:04:59.599848Z"
    },
    "id": "p6uaYLU1H6Of",
    "outputId": "6cd08b0c-5589-445e-ff93-e4f1a17922c7",
    "papermill": {
     "duration": 1.339194,
     "end_time": "2020-10-18T07:04:59.600939",
     "exception": false,
     "start_time": "2020-10-18T07:04:58.261745",
     "status": "completed"
    },
    "tags": []
   },
   "outputs": [
    {
     "data": {
      "text/plain": [
       "Dataset ImageFolder\n",
       "    Number of datapoints: 7553\n",
       "    Root location: data\n",
       "    StandardTransform\n",
       "Transform: Compose(\n",
       "               Resize(size=(32, 32), interpolation=PIL.Image.BILINEAR)\n",
       "               ToTensor()\n",
       "               Normalize(mean=(0.5, 0.5, 0.5), std=(0.5, 0.5, 0.5))\n",
       "           )"
      ]
     },
     "execution_count": 4,
     "metadata": {},
     "output_type": "execute_result"
    }
   ],
   "source": [
    "dataset = ImageFolder(\n",
    "                      root = MAIN,\n",
    "                      transform = image_transforms\n",
    "                       )\n",
    "dataset"
   ]
  },
  {
   "cell_type": "markdown",
   "metadata": {
    "papermill": {
     "duration": 0.019155,
     "end_time": "2020-10-18T07:04:59.639429",
     "exception": false,
     "start_time": "2020-10-18T07:04:59.620274",
     "status": "completed"
    },
    "tags": []
   },
   "source": [
    "# Reordering Classes"
   ]
  },
  {
   "cell_type": "code",
   "execution_count": 5,
   "metadata": {
    "execution": {
     "iopub.execute_input": "2020-10-18T07:04:59.683133Z",
     "iopub.status.busy": "2020-10-18T07:04:59.682234Z",
     "iopub.status.idle": "2020-10-18T07:04:59.687686Z",
     "shell.execute_reply": "2020-10-18T07:04:59.687218Z"
    },
    "id": "JOGXKyYlOUtA",
    "outputId": "df7374bd-8608-4b91-e16f-3f416dd560cd",
    "papermill": {
     "duration": 0.029255,
     "end_time": "2020-10-18T07:04:59.687820",
     "exception": false,
     "start_time": "2020-10-18T07:04:59.658565",
     "status": "completed"
    },
    "tags": []
   },
   "outputs": [
    {
     "data": {
      "text/plain": [
       "{'with_mask': 1, 'without_mask': 0}"
      ]
     },
     "execution_count": 5,
     "metadata": {},
     "output_type": "execute_result"
    }
   ],
   "source": [
    "dataset.class_to_idx\n",
    "\n",
    "dataset.class_to_idx = {'with_mask':1, 'without_mask':0}\n",
    "dataset.class_to_idx"
   ]
  },
  {
   "cell_type": "code",
   "execution_count": 6,
   "metadata": {
    "execution": {
     "iopub.execute_input": "2020-10-18T07:04:59.732354Z",
     "iopub.status.busy": "2020-10-18T07:04:59.731705Z",
     "iopub.status.idle": "2020-10-18T07:04:59.737379Z",
     "shell.execute_reply": "2020-10-18T07:04:59.736886Z"
    },
    "id": "8ASRfw4TR7tx",
    "outputId": "e4f1d788-c97d-41cf-f0a4-6aac5ce2f5af",
    "papermill": {
     "duration": 0.030135,
     "end_time": "2020-10-18T07:04:59.737468",
     "exception": false,
     "start_time": "2020-10-18T07:04:59.707333",
     "status": "completed"
    },
    "tags": []
   },
   "outputs": [
    {
     "data": {
      "text/plain": [
       "{1: 'with_mask', 0: 'without_mask'}"
      ]
     },
     "execution_count": 6,
     "metadata": {},
     "output_type": "execute_result"
    }
   ],
   "source": [
    "idx2class = {v: k for k, v in dataset.class_to_idx.items()}\n",
    "idx2class"
   ]
  },
  {
   "cell_type": "code",
   "execution_count": 7,
   "metadata": {
    "execution": {
     "iopub.execute_input": "2020-10-18T07:04:59.784316Z",
     "iopub.status.busy": "2020-10-18T07:04:59.783680Z",
     "iopub.status.idle": "2020-10-18T07:05:36.995246Z",
     "shell.execute_reply": "2020-10-18T07:05:36.995953Z"
    },
    "id": "Ddvi22mDSsrM",
    "outputId": "bb6ba41c-d4db-4980-bb94-414f1c9be5ef",
    "papermill": {
     "duration": 37.238552,
     "end_time": "2020-10-18T07:05:36.996133",
     "exception": false,
     "start_time": "2020-10-18T07:04:59.757581",
     "status": "completed"
    },
    "tags": []
   },
   "outputs": [
    {
     "name": "stderr",
     "output_type": "stream",
     "text": [
      "/home/icrl/anaconda3/envs/abdul-tf2x/lib/python3.7/site-packages/PIL/Image.py:946: UserWarning: Palette images with Transparency expressed in bytes should be converted to RGBA images\n",
      "  \"Palette images with Transparency expressed in bytes should be \"\n"
     ]
    },
    {
     "name": "stdout",
     "output_type": "stream",
     "text": [
      "Distribution of classes: \n",
      " {'with_mask': 3828, 'without_mask': 3725}\n"
     ]
    }
   ],
   "source": [
    "def get_class_distribution(dataset_obj):\n",
    "    count_dict = {k:0 for k,v in dataset_obj.class_to_idx.items()}\n",
    "    \n",
    "    for element in dataset_obj:\n",
    "        y_lbl = element[1]\n",
    "        y_lbl = idx2class[y_lbl]\n",
    "        count_dict[y_lbl] += 1\n",
    "            \n",
    "    return count_dict\n",
    "print(\"Distribution of classes: \\n\", get_class_distribution(dataset))"
   ]
  },
  {
   "cell_type": "code",
   "execution_count": 8,
   "metadata": {
    "execution": {
     "iopub.execute_input": "2020-10-18T07:05:37.047529Z",
     "iopub.status.busy": "2020-10-18T07:05:37.046841Z",
     "iopub.status.idle": "2020-10-18T07:06:01.658640Z",
     "shell.execute_reply": "2020-10-18T07:06:01.657699Z"
    },
    "id": "3LseJBEfYW-X",
    "outputId": "dbfa4026-3002-480c-b09f-6fcaff968996",
    "papermill": {
     "duration": 24.640155,
     "end_time": "2020-10-18T07:06:01.658770",
     "exception": false,
     "start_time": "2020-10-18T07:05:37.018615",
     "status": "completed"
    },
    "tags": []
   },
   "outputs": [
    {
     "data": {
      "image/png": "[encoded data removed]",
      "text/plain": [
       "<Figure size 1080x576 with 1 Axes>"
      ]
     },
     "metadata": {
      "needs_background": "light"
     },
     "output_type": "display_data"
    }
   ],
   "source": [
    "plt.figure(figsize=(15,8))\n",
    "sns.barplot(data = pd.DataFrame.from_dict([get_class_distribution(dataset)]).melt(), x = \"variable\", y=\"value\", hue=\"variable\").set_title('Face Mask Class Distribution')\n",
    "plt.show()"
   ]
  },
  {
   "cell_type": "markdown",
   "metadata": {
    "papermill": {
     "duration": 0.022503,
     "end_time": "2020-10-18T07:06:01.703962",
     "exception": false,
     "start_time": "2020-10-18T07:06:01.681459",
     "status": "completed"
    },
    "tags": []
   },
   "source": [
    "# Splitting into Train and Validation Set"
   ]
  },
  {
   "cell_type": "code",
   "execution_count": 9,
   "metadata": {
    "execution": {
     "iopub.execute_input": "2020-10-18T07:06:01.761427Z",
     "iopub.status.busy": "2020-10-18T07:06:01.760641Z",
     "iopub.status.idle": "2020-10-18T07:06:01.765644Z",
     "shell.execute_reply": "2020-10-18T07:06:01.765153Z"
    },
    "id": "ulZnwRhs5VVo",
    "papermill": {
     "duration": 0.034773,
     "end_time": "2020-10-18T07:06:01.765754",
     "exception": false,
     "start_time": "2020-10-18T07:06:01.730981",
     "status": "completed"
    },
    "tags": []
   },
   "outputs": [],
   "source": [
    "train_dataset, val_dataset = random_split(dataset, (6000, 1553))"
   ]
  },
  {
   "cell_type": "code",
   "execution_count": 10,
   "metadata": {
    "execution": {
     "iopub.execute_input": "2020-10-18T07:06:01.816511Z",
     "iopub.status.busy": "2020-10-18T07:06:01.815696Z",
     "iopub.status.idle": "2020-10-18T07:06:01.821330Z",
     "shell.execute_reply": "2020-10-18T07:06:01.820863Z"
    },
    "id": "Isg8pv5u6Akh",
    "outputId": "a2960049-4e62-4053-da3f-63a00168253c",
    "papermill": {
     "duration": 0.033427,
     "end_time": "2020-10-18T07:06:01.821423",
     "exception": false,
     "start_time": "2020-10-18T07:06:01.787996",
     "status": "completed"
    },
    "tags": []
   },
   "outputs": [
    {
     "name": "stdout",
     "output_type": "stream",
     "text": [
      "Length of the train_loader: 1500\n",
      "Length of the val_loader: 389\n"
     ]
    }
   ],
   "source": [
    "train_loader = DataLoader(dataset=train_dataset, shuffle=True, batch_size=4, num_workers=2)\n",
    "val_loader = DataLoader(dataset=val_dataset, shuffle=False, batch_size=4, num_workers=2)\n",
    "print(\"Length of the train_loader:\", len(train_loader))\n",
    "print(\"Length of the val_loader:\", len(val_loader))"
   ]
  },
  {
   "cell_type": "markdown",
   "metadata": {
    "papermill": {
     "duration": 0.022203,
     "end_time": "2020-10-18T07:06:01.865991",
     "exception": false,
     "start_time": "2020-10-18T07:06:01.843788",
     "status": "completed"
    },
    "tags": []
   },
   "source": [
    "## Random few images"
   ]
  },
  {
   "cell_type": "code",
   "execution_count": 11,
   "metadata": {
    "execution": {
     "iopub.execute_input": "2020-10-18T07:06:01.920555Z",
     "iopub.status.busy": "2020-10-18T07:06:01.919973Z",
     "iopub.status.idle": "2020-10-18T07:06:02.168102Z",
     "shell.execute_reply": "2020-10-18T07:06:02.168610Z"
    },
    "id": "dHvIn6diSCYB",
    "outputId": "f5d4b735-5587-48c8-979b-f1064437c9f3",
    "papermill": {
     "duration": 0.28012,
     "end_time": "2020-10-18T07:06:02.168760",
     "exception": false,
     "start_time": "2020-10-18T07:06:01.888640",
     "status": "completed"
    },
    "tags": []
   },
   "outputs": [
    {
     "data": {
      "image/png": "[encoded data removed]",
      "text/plain": [
       "<Figure size 432x288 with 1 Axes>"
      ]
     },
     "metadata": {
      "needs_background": "light"
     },
     "output_type": "display_data"
    },
    {
     "name": "stdout",
     "output_type": "stream",
     "text": [
      "with_mask with_mask without_mask without_mask\n"
     ]
    }
   ],
   "source": [
    "def imshow(img):\n",
    "    img = img / 2 + 0.5     # unnormalize\n",
    "    npimg = img.numpy()\n",
    "    plt.imshow(np.transpose(npimg, (1, 2, 0)))\n",
    "    plt.show()\n",
    "\n",
    "\n",
    "# get some random training images\n",
    "dataiter = iter(train_loader)\n",
    "images, labels = dataiter.next()\n",
    "\n",
    "# show images\n",
    "imshow(torchvision.utils.make_grid(images))\n",
    "# print labels\n",
    "classes = ('with_mask', 'without_mask')\n",
    "print(' '.join('%5s' % classes[labels[j]] for j in range(4)))"
   ]
  },
  {
   "cell_type": "markdown",
   "metadata": {
    "papermill": {
     "duration": 0.024256,
     "end_time": "2020-10-18T07:06:02.217682",
     "exception": false,
     "start_time": "2020-10-18T07:06:02.193426",
     "status": "completed"
    },
    "tags": []
   },
   "source": [
    "# Defining Neural Network"
   ]
  },
  {
   "cell_type": "code",
   "execution_count": 12,
   "metadata": {
    "execution": {
     "iopub.execute_input": "2020-10-18T07:06:02.281892Z",
     "iopub.status.busy": "2020-10-18T07:06:02.281086Z",
     "iopub.status.idle": "2020-10-18T07:06:02.285879Z",
     "shell.execute_reply": "2020-10-18T07:06:02.285391Z"
    },
    "id": "n3FvAZKOAH0D",
    "papermill": {
     "duration": 0.043967,
     "end_time": "2020-10-18T07:06:02.285979",
     "exception": false,
     "start_time": "2020-10-18T07:06:02.242012",
     "status": "completed"
    },
    "tags": []
   },
   "outputs": [],
   "source": [
    "class Net(nn.Module):\n",
    "    def __init__(self):\n",
    "        super(Net, self).__init__()\n",
    "        self.conv1 = nn.Conv2d(3, 6, 5)\n",
    "        self.pool = nn.MaxPool2d(2, 2)\n",
    "        self.conv2 = nn.Conv2d(6, 16, 5)\n",
    "        self.fc1 = nn.Linear(16 * 5 * 5, 120)\n",
    "        self.fc2 = nn.Linear(120, 84)\n",
    "        self.fc3 = nn.Linear(84, 10)\n",
    "\n",
    "    def forward(self, x):\n",
    "        x = self.pool(F.relu(self.conv1(x)))\n",
    "        x = self.pool(F.relu(self.conv2(x)))\n",
    "        x = x.view(-1, 16 * 5 * 5)\n",
    "        x = F.relu(self.fc1(x))\n",
    "        x = F.relu(self.fc2(x))\n",
    "        x = self.fc3(x)\n",
    "        return x\n",
    "\n",
    "net = Net()"
   ]
  },
  {
   "cell_type": "code",
   "execution_count": 13,
   "metadata": {
    "execution": {
     "iopub.execute_input": "2020-10-18T07:06:02.342031Z",
     "iopub.status.busy": "2020-10-18T07:06:02.340316Z",
     "iopub.status.idle": "2020-10-18T07:06:02.342705Z",
     "shell.execute_reply": "2020-10-18T07:06:02.343191Z"
    },
    "id": "bq_Q4UzITbs7",
    "papermill": {
     "duration": 0.032593,
     "end_time": "2020-10-18T07:06:02.343303",
     "exception": false,
     "start_time": "2020-10-18T07:06:02.310710",
     "status": "completed"
    },
    "tags": []
   },
   "outputs": [],
   "source": [
    "criterion = nn.CrossEntropyLoss()\n",
    "optimizer = optim.SGD(net.parameters(), lr=0.001, momentum=0.9)"
   ]
  },
  {
   "cell_type": "markdown",
   "metadata": {
    "papermill": {
     "duration": 0.024717,
     "end_time": "2020-10-18T07:06:02.392709",
     "exception": false,
     "start_time": "2020-10-18T07:06:02.367992",
     "status": "completed"
    },
    "tags": []
   },
   "source": [
    "# Training Neural Network"
   ]
  },
  {
   "cell_type": "code",
   "execution_count": 14,
   "metadata": {
    "execution": {
     "iopub.execute_input": "2020-10-18T07:06:02.460243Z",
     "iopub.status.busy": "2020-10-18T07:06:02.459477Z",
     "iopub.status.idle": "2020-10-18T07:06:02.462430Z",
     "shell.execute_reply": "2020-10-18T07:06:02.461963Z"
    },
    "id": "y_Jsb_MVbw0n",
    "papermill": {
     "duration": 0.044362,
     "end_time": "2020-10-18T07:06:02.462524",
     "exception": false,
     "start_time": "2020-10-18T07:06:02.418162",
     "status": "completed"
    },
    "tags": []
   },
   "outputs": [],
   "source": [
    "def images_to_probs(net, images):\n",
    "    output = net(images)\n",
    "    # convert output probabilities to predicted class\n",
    "    _, preds_tensor = torch.max(output, 1)\n",
    "    preds = np.squeeze(preds_tensor.numpy())\n",
    "    return preds, [F.softmax(el, dim=0)[i].item() for i, el in zip(preds, output)]\n",
    "\n",
    "def evaluate(net, dataloader):\n",
    "    correct, total = 0, 0\n",
    "    with torch.no_grad():\n",
    "        net.eval()\n",
    "        for images, labels in dataloader:\n",
    "            images, labels = images, labels.numpy()\n",
    "\n",
    "            preds, probs = images_to_probs(net, images)\n",
    "\n",
    "            total += len(labels)\n",
    "            correct += (preds == labels).sum()\n",
    "    return correct/total * 100\n",
    "\n",
    "from tqdm.notebook import tqdm\n",
    "\n",
    "def train(net, loss_fn, opt, dataloader, epochs):\n",
    "    num_steps = 0\n",
    "    min_loss = 1e+10\n",
    "\n",
    "    for epoch in tqdm(range(1, epochs+1), total=epochs, desc='Training'):\n",
    "        running_loss = []\n",
    "        net.train() # Setting the network to TRAIN mode\n",
    "        for images, labels in dataloader:\n",
    "            images, labels = images, labels\n",
    "            num_steps += 1\n",
    "\n",
    "            # FP\n",
    "            outs = net(images)\n",
    "            loss = loss_fn(outs, labels)\n",
    "\n",
    "            # Logging the loss value\n",
    "            running_loss.append(loss.item())\n",
    "\n",
    "            # BP\n",
    "            opt.zero_grad()\n",
    "            loss.backward()\n",
    "            opt.step()\n",
    "\n",
    "            # Clearing the RAM\n",
    "            #del images, labels, outs\n",
    "            #torch.device('cpu').empty_cache()\n",
    "        \n",
    "        epoch_loss = sum(running_loss) / len(running_loss)\n",
    "        acc = evaluate(net, dataloader)\n",
    "        print(\"Accuracy: \",acc)\n",
    "        print(\"loss: \",epoch_loss)\n",
    "        # Model Checkpointing\n",
    "        if epoch_loss < min_loss:\n",
    "            min_loss = epoch_loss\n",
    "            bestmodel = net.state_dict()\n",
    "    #torch.save(bestmodel,'{0}_{1:0.4f}.pth'.format('classifier',min_loss))\n",
    "    return None\n",
    "\n",
    "    print('Training finished!!!')"
   ]
  },
  {
   "cell_type": "code",
   "execution_count": 15,
   "metadata": {
    "execution": {
     "iopub.execute_input": "2020-10-18T07:06:02.540975Z",
     "iopub.status.busy": "2020-10-18T07:06:02.540063Z",
     "iopub.status.idle": "2020-10-18T07:07:27.549606Z",
     "shell.execute_reply": "2020-10-18T07:07:27.546090Z"
    },
    "id": "dPrcycqm8sLX",
    "outputId": "c237dae5-4754-4f2a-df30-a2d14fca2353",
    "papermill": {
     "duration": 85.06214,
     "end_time": "2020-10-18T07:07:27.549797",
     "exception": false,
     "start_time": "2020-10-18T07:06:02.487657",
     "status": "completed"
    },
    "tags": []
   },
   "outputs": [
    {
     "data": {
      "application/vnd.jupyter.widget-view+json": {
       "model_id": "435ac879ee9943a58bc1e265491912f2",
       "version_major": 2,
       "version_minor": 0
      },
      "text/plain": [
       "Training:   0%|          | 0/10 [00:00<?, ?it/s]"
      ]
     },
     "metadata": {},
     "output_type": "display_data"
    },
    {
     "name": "stderr",
     "output_type": "stream",
     "text": [
      "/home/icrl/anaconda3/envs/abdul-tf2x/lib/python3.7/site-packages/PIL/Image.py:946: UserWarning: Palette images with Transparency expressed in bytes should be converted to RGBA images\n",
      "  \"Palette images with Transparency expressed in bytes should be \"\n",
      "/home/icrl/anaconda3/envs/abdul-tf2x/lib/python3.7/site-packages/PIL/Image.py:946: UserWarning: Palette images with Transparency expressed in bytes should be converted to RGBA images\n",
      "  \"Palette images with Transparency expressed in bytes should be \"\n"
     ]
    },
    {
     "name": "stdout",
     "output_type": "stream",
     "text": [
      "Accuracy:  87.73333333333333\n",
      "loss:  0.5801248271539807\n"
     ]
    },
    {
     "name": "stderr",
     "output_type": "stream",
     "text": [
      "/home/icrl/anaconda3/envs/abdul-tf2x/lib/python3.7/site-packages/PIL/Image.py:946: UserWarning: Palette images with Transparency expressed in bytes should be converted to RGBA images\n",
      "  \"Palette images with Transparency expressed in bytes should be \"\n",
      "/home/icrl/anaconda3/envs/abdul-tf2x/lib/python3.7/site-packages/PIL/Image.py:946: UserWarning: Palette images with Transparency expressed in bytes should be converted to RGBA images\n",
      "  \"Palette images with Transparency expressed in bytes should be \"\n"
     ]
    },
    {
     "name": "stdout",
     "output_type": "stream",
     "text": [
      "Accuracy:  92.73333333333333\n",
      "loss:  0.2719379687168015\n"
     ]
    },
    {
     "name": "stderr",
     "output_type": "stream",
     "text": [
      "/home/icrl/anaconda3/envs/abdul-tf2x/lib/python3.7/site-packages/PIL/Image.py:946: UserWarning: Palette images with Transparency expressed in bytes should be converted to RGBA images\n",
      "  \"Palette images with Transparency expressed in bytes should be \"\n",
      "/home/icrl/anaconda3/envs/abdul-tf2x/lib/python3.7/site-packages/PIL/Image.py:946: UserWarning: Palette images with Transparency expressed in bytes should be converted to RGBA images\n",
      "  \"Palette images with Transparency expressed in bytes should be \"\n"
     ]
    },
    {
     "name": "stdout",
     "output_type": "stream",
     "text": [
      "Accuracy:  92.48333333333333\n",
      "loss:  0.21344201687149084\n"
     ]
    },
    {
     "name": "stderr",
     "output_type": "stream",
     "text": [
      "/home/icrl/anaconda3/envs/abdul-tf2x/lib/python3.7/site-packages/PIL/Image.py:946: UserWarning: Palette images with Transparency expressed in bytes should be converted to RGBA images\n",
      "  \"Palette images with Transparency expressed in bytes should be \"\n",
      "/home/icrl/anaconda3/envs/abdul-tf2x/lib/python3.7/site-packages/PIL/Image.py:946: UserWarning: Palette images with Transparency expressed in bytes should be converted to RGBA images\n",
      "  \"Palette images with Transparency expressed in bytes should be \"\n"
     ]
    },
    {
     "name": "stdout",
     "output_type": "stream",
     "text": [
      "Accuracy:  89.85\n",
      "loss:  0.19001832905380675\n"
     ]
    },
    {
     "name": "stderr",
     "output_type": "stream",
     "text": [
      "/home/icrl/anaconda3/envs/abdul-tf2x/lib/python3.7/site-packages/PIL/Image.py:946: UserWarning: Palette images with Transparency expressed in bytes should be converted to RGBA images\n",
      "  \"Palette images with Transparency expressed in bytes should be \"\n",
      "/home/icrl/anaconda3/envs/abdul-tf2x/lib/python3.7/site-packages/PIL/Image.py:946: UserWarning: Palette images with Transparency expressed in bytes should be converted to RGBA images\n",
      "  \"Palette images with Transparency expressed in bytes should be \"\n"
     ]
    },
    {
     "name": "stdout",
     "output_type": "stream",
     "text": [
      "Accuracy:  94.91666666666667\n",
      "loss:  0.17406993141991553\n"
     ]
    },
    {
     "name": "stderr",
     "output_type": "stream",
     "text": [
      "/home/icrl/anaconda3/envs/abdul-tf2x/lib/python3.7/site-packages/PIL/Image.py:946: UserWarning: Palette images with Transparency expressed in bytes should be converted to RGBA images\n",
      "  \"Palette images with Transparency expressed in bytes should be \"\n",
      "/home/icrl/anaconda3/envs/abdul-tf2x/lib/python3.7/site-packages/PIL/Image.py:946: UserWarning: Palette images with Transparency expressed in bytes should be converted to RGBA images\n",
      "  \"Palette images with Transparency expressed in bytes should be \"\n"
     ]
    },
    {
     "name": "stdout",
     "output_type": "stream",
     "text": [
      "Accuracy:  94.13333333333334\n",
      "loss:  0.1607876735876586\n"
     ]
    },
    {
     "name": "stderr",
     "output_type": "stream",
     "text": [
      "/home/icrl/anaconda3/envs/abdul-tf2x/lib/python3.7/site-packages/PIL/Image.py:946: UserWarning: Palette images with Transparency expressed in bytes should be converted to RGBA images\n",
      "  \"Palette images with Transparency expressed in bytes should be \"\n",
      "/home/icrl/anaconda3/envs/abdul-tf2x/lib/python3.7/site-packages/PIL/Image.py:946: UserWarning: Palette images with Transparency expressed in bytes should be converted to RGBA images\n",
      "  \"Palette images with Transparency expressed in bytes should be \"\n"
     ]
    },
    {
     "name": "stdout",
     "output_type": "stream",
     "text": [
      "Accuracy:  94.89999999999999\n",
      "loss:  0.15211526527843672\n"
     ]
    },
    {
     "name": "stderr",
     "output_type": "stream",
     "text": [
      "/home/icrl/anaconda3/envs/abdul-tf2x/lib/python3.7/site-packages/PIL/Image.py:946: UserWarning: Palette images with Transparency expressed in bytes should be converted to RGBA images\n",
      "  \"Palette images with Transparency expressed in bytes should be \"\n",
      "/home/icrl/anaconda3/envs/abdul-tf2x/lib/python3.7/site-packages/PIL/Image.py:946: UserWarning: Palette images with Transparency expressed in bytes should be converted to RGBA images\n",
      "  \"Palette images with Transparency expressed in bytes should be \"\n"
     ]
    },
    {
     "name": "stdout",
     "output_type": "stream",
     "text": [
      "Accuracy:  94.93333333333334\n",
      "loss:  0.14042871869999604\n"
     ]
    },
    {
     "name": "stderr",
     "output_type": "stream",
     "text": [
      "/home/icrl/anaconda3/envs/abdul-tf2x/lib/python3.7/site-packages/PIL/Image.py:946: UserWarning: Palette images with Transparency expressed in bytes should be converted to RGBA images\n",
      "  \"Palette images with Transparency expressed in bytes should be \"\n",
      "/home/icrl/anaconda3/envs/abdul-tf2x/lib/python3.7/site-packages/PIL/Image.py:946: UserWarning: Palette images with Transparency expressed in bytes should be converted to RGBA images\n",
      "  \"Palette images with Transparency expressed in bytes should be \"\n"
     ]
    },
    {
     "name": "stdout",
     "output_type": "stream",
     "text": [
      "Accuracy:  96.38333333333333\n",
      "loss:  0.12858883465016455\n"
     ]
    },
    {
     "name": "stderr",
     "output_type": "stream",
     "text": [
      "/home/icrl/anaconda3/envs/abdul-tf2x/lib/python3.7/site-packages/PIL/Image.py:946: UserWarning: Palette images with Transparency expressed in bytes should be converted to RGBA images\n",
      "  \"Palette images with Transparency expressed in bytes should be \"\n",
      "/home/icrl/anaconda3/envs/abdul-tf2x/lib/python3.7/site-packages/PIL/Image.py:946: UserWarning: Palette images with Transparency expressed in bytes should be converted to RGBA images\n",
      "  \"Palette images with Transparency expressed in bytes should be \"\n"
     ]
    },
    {
     "name": "stdout",
     "output_type": "stream",
     "text": [
      "Accuracy:  96.05\n",
      "loss:  0.1176992722244128\n"
     ]
    }
   ],
   "source": [
    "train(net, criterion, optimizer, train_loader, 10)"
   ]
  },
  {
   "cell_type": "markdown",
   "metadata": {
    "papermill": {
     "duration": 0.025988,
     "end_time": "2020-10-18T07:07:27.603403",
     "exception": false,
     "start_time": "2020-10-18T07:07:27.577415",
     "status": "completed"
    },
    "tags": []
   },
   "source": [
    "# Testing Neural Network"
   ]
  },
  {
   "cell_type": "code",
   "execution_count": 16,
   "metadata": {
    "execution": {
     "iopub.execute_input": "2020-10-18T07:07:27.662061Z",
     "iopub.status.busy": "2020-10-18T07:07:27.660645Z",
     "iopub.status.idle": "2020-10-18T07:07:27.744329Z",
     "shell.execute_reply": "2020-10-18T07:07:27.744840Z"
    },
    "id": "4Z0q-EZUXkDL",
    "papermill": {
     "duration": 0.115573,
     "end_time": "2020-10-18T07:07:27.744985",
     "exception": false,
     "start_time": "2020-10-18T07:07:27.629412",
     "status": "completed"
    },
    "tags": []
   },
   "outputs": [],
   "source": [
    "testimg, testlab = next(iter(val_loader))\n",
    "testimg, testlab = testimg, testlab\n",
    "\n",
    "pred = net(testimg)\n",
    "predlab = torch.argmax(pred,axis=1)"
   ]
  },
  {
   "cell_type": "code",
   "execution_count": 17,
   "metadata": {
    "execution": {
     "iopub.execute_input": "2020-10-18T07:07:27.812969Z",
     "iopub.status.busy": "2020-10-18T07:07:27.809927Z",
     "iopub.status.idle": "2020-10-18T07:07:27.816316Z",
     "shell.execute_reply": "2020-10-18T07:07:27.817125Z"
    },
    "id": "jC1_2AZQXkGE",
    "outputId": "b2d7a632-9a97-4de9-b9a8-dde15e660539",
    "papermill": {
     "duration": 0.045023,
     "end_time": "2020-10-18T07:07:27.817316",
     "exception": false,
     "start_time": "2020-10-18T07:07:27.772293",
     "status": "completed"
    },
    "tags": []
   },
   "outputs": [
    {
     "name": "stdout",
     "output_type": "stream",
     "text": [
      "Predicted [tensor(0), tensor(1), tensor(0), tensor(0)]\n",
      "Actual [tensor(0), tensor(1), tensor(0), tensor(0)]\n",
      "without_mask\n",
      "with_mask\n",
      "without_mask\n",
      "without_mask\n",
      "______________________________________________________________________________________________________________\n",
      "without_mask\n",
      "with_mask\n",
      "without_mask\n",
      "without_mask\n"
     ]
    }
   ],
   "source": [
    "print(\"Predicted\",[i for i in predlab])\n",
    "print(\"Actual\",[i for i in testlab])\n",
    "for i in predlab:\n",
    "  if i == 0:\n",
    "    print(\"without_mask\")\n",
    "  else:\n",
    "    print(\"with_mask\")\n",
    "print(\"______________________________________________________________________________________________________________\")\n",
    "for i in testlab:\n",
    "  if i == 0:\n",
    "    print(\"without_mask\")\n",
    "  else:\n",
    "    print(\"with_mask\")"
   ]
  },
  {
   "cell_type": "markdown",
   "metadata": {
    "papermill": {
     "duration": 0.029264,
     "end_time": "2020-10-18T07:07:27.887131",
     "exception": false,
     "start_time": "2020-10-18T07:07:27.857867",
     "status": "completed"
    },
    "tags": []
   },
   "source": [
    "Currently learning how to do it for the whole validation set. Since batch_size = 4, we get this output."
   ]
  },
  {
   "cell_type": "markdown",
   "metadata": {
    "papermill": {
     "duration": 0.028092,
     "end_time": "2020-10-18T07:07:27.943095",
     "exception": false,
     "start_time": "2020-10-18T07:07:27.915003",
     "status": "completed"
    },
    "tags": []
   },
   "source": [
    "# Final Metrics"
   ]
  },
  {
   "cell_type": "markdown",
   "metadata": {
    "papermill": {
     "duration": 0.02677,
     "end_time": "2020-10-18T07:07:27.997132",
     "exception": false,
     "start_time": "2020-10-18T07:07:27.970362",
     "status": "completed"
    },
    "tags": []
   },
   "source": [
    "## Confusion Matrix"
   ]
  },
  {
   "cell_type": "code",
   "execution_count": 18,
   "metadata": {},
   "outputs": [
    {
     "name": "stderr",
     "output_type": "stream",
     "text": [
      "/home/icrl/anaconda3/envs/abdul-tf2x/lib/python3.7/site-packages/PIL/Image.py:946: UserWarning: Palette images with Transparency expressed in bytes should be converted to RGBA images\n",
      "  \"Palette images with Transparency expressed in bytes should be \"\n"
     ]
    }
   ],
   "source": [
    "val_loader = DataLoader(dataset=val_dataset, shuffle=False, batch_size=len(val_dataset), num_workers=2)\n",
    "\n",
    "testimg, testlab = next(iter(val_loader))\n",
    "testimg, testlab = testimg, testlab\n",
    "\n",
    "pred = net(testimg)\n",
    "predlab = torch.argmax(pred,axis=1)"
   ]
  },
  {
   "cell_type": "code",
   "execution_count": 19,
   "metadata": {
    "execution": {
     "iopub.execute_input": "2020-10-18T07:07:28.062603Z",
     "iopub.status.busy": "2020-10-18T07:07:28.061936Z",
     "iopub.status.idle": "2020-10-18T07:07:28.067036Z",
     "shell.execute_reply": "2020-10-18T07:07:28.066530Z"
    },
    "id": "42MpdzsDXjys",
    "outputId": "629d5573-017b-402c-b814-b22bb53e13ba",
    "papermill": {
     "duration": 0.042673,
     "end_time": "2020-10-18T07:07:28.067138",
     "exception": false,
     "start_time": "2020-10-18T07:07:28.024465",
     "status": "completed"
    },
    "tags": []
   },
   "outputs": [
    {
     "name": "stdout",
     "output_type": "stream",
     "text": [
      "[[672  91]\n",
      " [ 19 771]]\n"
     ]
    }
   ],
   "source": [
    "predlab = predlab.to(torch.device('cpu'))\n",
    "testlab = testlab.to(torch.device('cpu'))\n",
    "pred = predlab.numpy()\n",
    "test = testlab.numpy()\n",
    "matrix = confusion_matrix(test,pred)\n",
    "print(matrix)"
   ]
  },
  {
   "cell_type": "code",
   "execution_count": 20,
   "metadata": {},
   "outputs": [],
   "source": [
    "import seaborn as sns\n",
    "import matplotlib.pyplot as plt\n",
    "from sklearn.metrics import confusion_matrix,classification_report, accuracy_score,precision_score, recall_score, f1_score\n",
    "# function for evaluation metrics precision, recall, f1 etc\n",
    "def modelEvaluation(y_test_set, predictions, model_name, classes):\n",
    "    # Print model evaluation to predicted result    \n",
    "    print(\"==========\",model_name,\"==========\")\n",
    "    print (\"\\nAccuracy on validation set: {:.4f}\".format(accuracy_score(y_test_set, predictions)))    \n",
    "    print (\"\\nClassification report : \\n\", classification_report(y_test_set, predictions, target_names = classes))\n",
    "    print (\"\\nConfusion Matrix : \\n\", confusion_matrix(y_test_set,predictions))\n",
    "    sns.heatmap(confusion_matrix(y_test_set, predictions),annot=True,yticklabels=classes, xticklabels=classes, fmt='g',cmap='jet')\n",
    "   \n",
    "    plt.tight_layout()\n",
    "    plt.show()\n",
    "    results = [accuracy_score(y_test_set, predictions), precision_score(y_test_set, predictions,average='macro'),\n",
    "              recall_score(y_test_set, predictions,average='macro'),f1_score(y_test_set, predictions,average='macro')]#store results of model\n",
    "    return results"
   ]
  },
  {
   "cell_type": "code",
   "execution_count": 21,
   "metadata": {},
   "outputs": [
    {
     "name": "stdout",
     "output_type": "stream",
     "text": [
      "========== BERT ==========\n",
      "\n",
      "Accuracy on validation set: 0.9292\n",
      "\n",
      "Classification report : \n",
      "               precision    recall  f1-score   support\n",
      "\n",
      "   with_mask       0.97      0.88      0.92       763\n",
      "without_mask       0.89      0.98      0.93       790\n",
      "\n",
      "    accuracy                           0.93      1553\n",
      "   macro avg       0.93      0.93      0.93      1553\n",
      "weighted avg       0.93      0.93      0.93      1553\n",
      "\n",
      "\n",
      "Confusion Matrix : \n",
      " [[672  91]\n",
      " [ 19 771]]\n"
     ]
    },
    {
     "data": {
      "image/png": "[encoded data removed]",
      "text/plain": [
       "<Figure size 432x288 with 2 Axes>"
      ]
     },
     "metadata": {
      "needs_background": "light"
     },
     "output_type": "display_data"
    }
   ],
   "source": [
    "target_names=['with_mask','without_mask']\n",
    "BERT_MODEL = modelEvaluation(test, pred, 'BERT', target_names)"
   ]
  },
  {
   "cell_type": "markdown",
   "metadata": {
    "papermill": {
     "duration": 0.02772,
     "end_time": "2020-10-18T07:07:28.122092",
     "exception": false,
     "start_time": "2020-10-18T07:07:28.094372",
     "status": "completed"
    },
    "tags": []
   },
   "source": [
    "# Classification Report"
   ]
  },
  {
   "cell_type": "code",
   "execution_count": 22,
   "metadata": {
    "execution": {
     "iopub.execute_input": "2020-10-18T07:07:28.182549Z",
     "iopub.status.busy": "2020-10-18T07:07:28.181674Z",
     "iopub.status.idle": "2020-10-18T07:07:28.192470Z",
     "shell.execute_reply": "2020-10-18T07:07:28.191693Z"
    },
    "id": "vY5n_E9sXttR",
    "outputId": "9829d599-5043-41d3-894b-52868811b122",
    "papermill": {
     "duration": 0.042879,
     "end_time": "2020-10-18T07:07:28.192588",
     "exception": false,
     "start_time": "2020-10-18T07:07:28.149709",
     "status": "completed"
    },
    "tags": []
   },
   "outputs": [
    {
     "name": "stdout",
     "output_type": "stream",
     "text": [
      "              precision    recall  f1-score   support\n",
      "\n",
      "   with_mask       0.97      0.88      0.92       763\n",
      "without_mask       0.89      0.98      0.93       790\n",
      "\n",
      "    accuracy                           0.93      1553\n",
      "   macro avg       0.93      0.93      0.93      1553\n",
      "weighted avg       0.93      0.93      0.93      1553\n",
      "\n"
     ]
    }
   ],
   "source": [
    "report = classification_report(test, pred, target_names=['with_mask','without_mask'])\n",
    "print(report)  "
   ]
  },
  {
   "cell_type": "code",
   "execution_count": 26,
   "metadata": {},
   "outputs": [
    {
     "name": "stdout",
     "output_type": "stream",
     "text": [
      "Net(\n",
      "  (conv1): Conv2d(3, 6, kernel_size=(5, 5), stride=(1, 1))\n",
      "  (pool): MaxPool2d(kernel_size=2, stride=2, padding=0, dilation=1, ceil_mode=False)\n",
      "  (conv2): Conv2d(6, 16, kernel_size=(5, 5), stride=(1, 1))\n",
      "  (fc1): Linear(in_features=400, out_features=120, bias=True)\n",
      "  (fc2): Linear(in_features=120, out_features=84, bias=True)\n",
      "  (fc3): Linear(in_features=84, out_features=10, bias=True)\n",
      ")\n"
     ]
    }
   ],
   "source": [
    "print(net)"
   ]
  },
  {
   "cell_type": "code",
   "execution_count": null,
   "metadata": {},
   "outputs": [],
   "source": []
  },
  {
   "cell_type": "code",
   "execution_count": null,
   "metadata": {},
   "outputs": [],
   "source": []
  }
 ],
 "metadata": {
  "kernelspec": {
   "display_name": "Python 3 (ipykernel)",
   "language": "python",
   "name": "python3"
  },
  "language_info": {
   "codemirror_mode": {
    "name": "ipython",
    "version": 3
   },
   "file_extension": ".py",
   "mimetype": "text/x-python",
   "name": "python",
   "nbconvert_exporter": "python",
   "pygments_lexer": "ipython3",
   "version": "3.7.13"
  },
  "papermill": {
   "duration": 157.587937,
   "end_time": "2020-10-18T07:07:28.534032",
   "environment_variables": {},
   "exception": null,
   "input_path": "__notebook__.ipynb",
   "output_path": "__notebook__.ipynb",
   "parameters": {},
   "start_time": "2020-10-18T07:04:50.946095",
   "version": "2.1.0"
  },
  "widgets": {
   "application/vnd.jupyter.widget-state+json": {
    "state": {
     "325f030a3a744ec5a4346c64e335f7a6": {
      "model_module": "@jupyter-widgets/controls",
      "model_module_version": "1.5.0",
      "model_name": "FloatProgressModel",
      "state": {
       "_dom_classes": [],
       "_model_module": "@jupyter-widgets/controls",
       "_model_module_version": "1.5.0",
       "_model_name": "FloatProgressModel",
       "_view_count": null,
       "_view_module": "@jupyter-widgets/controls",
       "_view_module_version": "1.5.0",
       "_view_name": "ProgressView",
       "bar_style": "success",
       "description": "Training: 100%",
       "description_tooltip": null,
       "layout": "IPY_MODEL_3804e688a394404abbfd2b94820f35fb",
       "max": 2,
       "min": 0,
       "orientation": "horizontal",
       "style": "IPY_MODEL_98484f28f3a4485fb71a8fc6e6a41112",
       "value": 2
      }
     },
     "3804e688a394404abbfd2b94820f35fb": {
      "model_module": "@jupyter-widgets/base",
      "model_module_version": "1.2.0",
      "model_name": "LayoutModel",
      "state": {
       "_model_module": "@jupyter-widgets/base",
       "_model_module_version": "1.2.0",
       "_model_name": "LayoutModel",
       "_view_count": null,
       "_view_module": "@jupyter-widgets/base",
       "_view_module_version": "1.2.0",
       "_view_name": "LayoutView",
       "align_content": null,
       "align_items": null,
       "align_self": null,
       "border": null,
       "bottom": null,
       "display": null,
       "flex": null,
       "flex_flow": null,
       "grid_area": null,
       "grid_auto_columns": null,
       "grid_auto_flow": null,
       "grid_auto_rows": null,
       "grid_column": null,
       "grid_gap": null,
       "grid_row": null,
       "grid_template_areas": null,
       "grid_template_columns": null,
       "grid_template_rows": null,
       "height": null,
       "justify_content": null,
       "justify_items": null,
       "left": null,
       "margin": null,
       "max_height": null,
       "max_width": null,
       "min_height": null,
       "min_width": null,
       "object_fit": null,
       "object_position": null,
       "order": null,
       "overflow": null,
       "overflow_x": null,
       "overflow_y": null,
       "padding": null,
       "right": null,
       "top": null,
       "visibility": null,
       "width": null
      }
     },
     "4630c52c8bec4badbbd5ea5e738ea1a4": {
      "model_module": "@jupyter-widgets/base",
      "model_module_version": "1.2.0",
      "model_name": "LayoutModel",
      "state": {
       "_model_module": "@jupyter-widgets/base",
       "_model_module_version": "1.2.0",
       "_model_name": "LayoutModel",
       "_view_count": null,
       "_view_module": "@jupyter-widgets/base",
       "_view_module_version": "1.2.0",
       "_view_name": "LayoutView",
       "align_content": null,
       "align_items": null,
       "align_self": null,
       "border": null,
       "bottom": null,
       "display": null,
       "flex": null,
       "flex_flow": null,
       "grid_area": null,
       "grid_auto_columns": null,
       "grid_auto_flow": null,
       "grid_auto_rows": null,
       "grid_column": null,
       "grid_gap": null,
       "grid_row": null,
       "grid_template_areas": null,
       "grid_template_columns": null,
       "grid_template_rows": null,
       "height": null,
       "justify_content": null,
       "justify_items": null,
       "left": null,
       "margin": null,
       "max_height": null,
       "max_width": null,
       "min_height": null,
       "min_width": null,
       "object_fit": null,
       "object_position": null,
       "order": null,
       "overflow": null,
       "overflow_x": null,
       "overflow_y": null,
       "padding": null,
       "right": null,
       "top": null,
       "visibility": null,
       "width": null
      }
     },
     "673b50f36f6a4034ab62f71728143abe": {
      "model_module": "@jupyter-widgets/controls",
      "model_module_version": "1.5.0",
      "model_name": "HTMLModel",
      "state": {
       "_dom_classes": [],
       "_model_module": "@jupyter-widgets/controls",
       "_model_module_version": "1.5.0",
       "_model_name": "HTMLModel",
       "_view_count": null,
       "_view_module": "@jupyter-widgets/controls",
       "_view_module_version": "1.5.0",
       "_view_name": "HTMLView",
       "description": "",
       "description_tooltip": null,
       "layout": "IPY_MODEL_69b9d1f915054bd2aa52111636d0d2bc",
       "placeholder": "​",
       "style": "IPY_MODEL_d2a8f941c09a4b6f9b4f5248837aa337",
       "value": " 2/2 [01:24&lt;00:00, 42.50s/it]"
      }
     },
     "69b9d1f915054bd2aa52111636d0d2bc": {
      "model_module": "@jupyter-widgets/base",
      "model_module_version": "1.2.0",
      "model_name": "LayoutModel",
      "state": {
       "_model_module": "@jupyter-widgets/base",
       "_model_module_version": "1.2.0",
       "_model_name": "LayoutModel",
       "_view_count": null,
       "_view_module": "@jupyter-widgets/base",
       "_view_module_version": "1.2.0",
       "_view_name": "LayoutView",
       "align_content": null,
       "align_items": null,
       "align_self": null,
       "border": null,
       "bottom": null,
       "display": null,
       "flex": null,
       "flex_flow": null,
       "grid_area": null,
       "grid_auto_columns": null,
       "grid_auto_flow": null,
       "grid_auto_rows": null,
       "grid_column": null,
       "grid_gap": null,
       "grid_row": null,
       "grid_template_areas": null,
       "grid_template_columns": null,
       "grid_template_rows": null,
       "height": null,
       "justify_content": null,
       "justify_items": null,
       "left": null,
       "margin": null,
       "max_height": null,
       "max_width": null,
       "min_height": null,
       "min_width": null,
       "object_fit": null,
       "object_position": null,
       "order": null,
       "overflow": null,
       "overflow_x": null,
       "overflow_y": null,
       "padding": null,
       "right": null,
       "top": null,
       "visibility": null,
       "width": null
      }
     },
     "98484f28f3a4485fb71a8fc6e6a41112": {
      "model_module": "@jupyter-widgets/controls",
      "model_module_version": "1.5.0",
      "model_name": "ProgressStyleModel",
      "state": {
       "_model_module": "@jupyter-widgets/controls",
       "_model_module_version": "1.5.0",
       "_model_name": "ProgressStyleModel",
       "_view_count": null,
       "_view_module": "@jupyter-widgets/base",
       "_view_module_version": "1.2.0",
       "_view_name": "StyleView",
       "bar_color": null,
       "description_width": "initial"
      }
     },
     "ba981b52979c409a98bb81ca14e120d3": {
      "model_module": "@jupyter-widgets/controls",
      "model_module_version": "1.5.0",
      "model_name": "HBoxModel",
      "state": {
       "_dom_classes": [],
       "_model_module": "@jupyter-widgets/controls",
       "_model_module_version": "1.5.0",
       "_model_name": "HBoxModel",
       "_view_count": null,
       "_view_module": "@jupyter-widgets/controls",
       "_view_module_version": "1.5.0",
       "_view_name": "HBoxView",
       "box_style": "",
       "children": [
        "IPY_MODEL_325f030a3a744ec5a4346c64e335f7a6",
        "IPY_MODEL_673b50f36f6a4034ab62f71728143abe"
       ],
       "layout": "IPY_MODEL_4630c52c8bec4badbbd5ea5e738ea1a4"
      }
     },
     "d2a8f941c09a4b6f9b4f5248837aa337": {
      "model_module": "@jupyter-widgets/controls",
      "model_module_version": "1.5.0",
      "model_name": "DescriptionStyleModel",
      "state": {
       "_model_module": "@jupyter-widgets/controls",
       "_model_module_version": "1.5.0",
       "_model_name": "DescriptionStyleModel",
       "_view_count": null,
       "_view_module": "@jupyter-widgets/base",
       "_view_module_version": "1.2.0",
       "_view_name": "StyleView",
       "description_width": ""
      }
     }
    },
    "version_major": 2,
    "version_minor": 0
   }
  }
 },
 "nbformat": 4,
 "nbformat_minor": 4
}
